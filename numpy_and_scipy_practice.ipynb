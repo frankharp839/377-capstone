{
  "nbformat": 4,
  "nbformat_minor": 0,
  "metadata": {
    "colab": {
      "provenance": [],
      "authorship_tag": "ABX9TyPFomKSiefp+NLCcAqJWcZm",
      "include_colab_link": true
    },
    "kernelspec": {
      "name": "python3",
      "display_name": "Python 3"
    },
    "language_info": {
      "name": "python"
    }
  },
  "cells": [
    {
      "cell_type": "markdown",
      "metadata": {
        "id": "view-in-github",
        "colab_type": "text"
      },
      "source": [
        "<a href=\"https://colab.research.google.com/github/frankharp839/377-capstone/blob/main/numpy_and_scipy_practice.ipynb\" target=\"_parent\"><img src=\"https://colab.research.google.com/assets/colab-badge.svg\" alt=\"Open In Colab\"/></a>"
      ]
    },
    {
      "cell_type": "code",
      "execution_count": null,
      "metadata": {
        "id": "36-noedrQibL"
      },
      "outputs": [],
      "source": [
        "import numpy as np\n",
        "import matplotlib.pyplot as plt\n",
        "from scipy import integrate"
      ]
    },
    {
      "cell_type": "markdown",
      "source": [
        "## NumPy practice"
      ],
      "metadata": {
        "id": "Xc__sYEYfF7w"
      }
    },
    {
      "cell_type": "code",
      "source": [
        "# 1D array\n",
        "a = np.array([1,2])\n",
        "print('1D array:', a)\n",
        "\n",
        "print('\\n')\n",
        "\n",
        "# 2D Array\n",
        "b = np.array(([1,2], [3,4]))\n",
        "print('2D array:\\n',b)\n",
        "\n",
        "print('\\n')\n",
        "\n",
        "# 3D Array\n",
        "c = np.array(([1,2,3], [4,5,6], [7,8,9]))\n",
        "print('3D array:\\n', c)"
      ],
      "metadata": {
        "colab": {
          "base_uri": "https://localhost:8080/"
        },
        "id": "pwwFCErxQsZl",
        "outputId": "33c6011b-8e02-4f66-bcf7-8ed619819719"
      },
      "execution_count": null,
      "outputs": [
        {
          "output_type": "stream",
          "name": "stdout",
          "text": [
            "1D array: [1 2]\n",
            "\n",
            "\n",
            "2D array:\n",
            " [[1 2]\n",
            " [3 4]]\n",
            "\n",
            "\n",
            "3D array:\n",
            " [[1 2 3]\n",
            " [4 5 6]\n",
            " [7 8 9]]\n"
          ]
        }
      ]
    },
    {
      "cell_type": "code",
      "source": [
        "# Transposing each array\n",
        "print(\"Transpose of matrix B:\\n\", b.T)\n",
        "\n",
        "print(\"\\n\")\n",
        "\n",
        "print(\"Transpose of matrix C:\\n\", c.T)\n",
        "\n"
      ],
      "metadata": {
        "colab": {
          "base_uri": "https://localhost:8080/"
        },
        "id": "BaED94IaR16j",
        "outputId": "72d710a7-cad6-48bb-ab2c-ad78d59598eb"
      },
      "execution_count": null,
      "outputs": [
        {
          "output_type": "stream",
          "name": "stdout",
          "text": [
            "Transpose of matrix B:\n",
            " [[1 3]\n",
            " [2 4]]\n",
            "\n",
            "\n",
            "Transpose of matrix C:\n",
            " [[1 4 7]\n",
            " [2 5 8]\n",
            " [3 6 9]]\n"
          ]
        }
      ]
    },
    {
      "cell_type": "code",
      "source": [
        "# Checking datatype of each array\n",
        "print(\"Data type of vector A:\", a.dtype)\n",
        "print(\"Data type of matrix B:\", b.dtype)\n",
        "print(\"Data type of matrix C:\", c.dtype)"
      ],
      "metadata": {
        "colab": {
          "base_uri": "https://localhost:8080/"
        },
        "id": "g06ETawfR-BL",
        "outputId": "557ad15f-f637-4505-fcb4-49695ecb77b4"
      },
      "execution_count": null,
      "outputs": [
        {
          "output_type": "stream",
          "name": "stdout",
          "text": [
            "Data type of vector A: int64\n",
            "Data type of matrix B: int64\n",
            "Data type of matrix C: int64\n"
          ]
        }
      ]
    },
    {
      "cell_type": "code",
      "source": [
        "#Changing an element of each array\n",
        "print('Before changing element of A:', a)\n",
        "print(\"\\n\")\n",
        "\n",
        "a[1] = 3\n",
        "\n",
        "print (\"After changing element of A:\", a)\n",
        "\n",
        "print('Before changing element of B:\\n', b)\n",
        "print ('\\n')\n",
        "\n",
        "b[1,0] = 5\n",
        "\n",
        "print(\"After changing element oF B:\\n\",b)\n",
        "print(\"\\n\")\n",
        "\n",
        "print('Before changing element of C:\\n', c)\n",
        "print('\\n')\n",
        "\n",
        "c[2,2] = 10\n",
        "\n",
        "print('After changing element of C:\\n',c)\n"
      ],
      "metadata": {
        "colab": {
          "base_uri": "https://localhost:8080/"
        },
        "id": "imC1gsDcTCww",
        "outputId": "09758106-c8c6-4cc6-d60c-5679fe9e85da"
      },
      "execution_count": null,
      "outputs": [
        {
          "output_type": "stream",
          "name": "stdout",
          "text": [
            "Before changing element of A: [1 2]\n",
            "\n",
            "\n",
            "After changing element of A: [1 3]\n",
            "Before changing element of B:\n",
            " [[1 2]\n",
            " [3 4]]\n",
            "\n",
            "\n",
            "After changing element oF B:\n",
            " [[1 2]\n",
            " [5 4]]\n",
            "\n",
            "\n",
            "Before changing element of C:\n",
            " [[1 2 3]\n",
            " [4 5 6]\n",
            " [7 8 9]]\n",
            "\n",
            "\n",
            "After changing element of C:\n",
            " [[ 1  2  3]\n",
            " [ 4  5  6]\n",
            " [ 7  8 10]]\n"
          ]
        }
      ]
    },
    {
      "cell_type": "code",
      "source": [
        "# Creating 2x2 identity matrix\n",
        "identity_arr1 = np.eye(2)\n",
        "print('2x2 matrix:\\n', identity_arr1)\n",
        "\n",
        "print('\\n')\n",
        "\n",
        "# 3x3 identity matrix\n",
        "identity_arr2 = np.eye(3)\n",
        "print ('3x3 matrix:\\n', identity_arr2)"
      ],
      "metadata": {
        "colab": {
          "base_uri": "https://localhost:8080/"
        },
        "id": "mw0UlorRU_Jh",
        "outputId": "2b406e87-140a-440d-d5b3-9833e973b1b3"
      },
      "execution_count": null,
      "outputs": [
        {
          "output_type": "stream",
          "name": "stdout",
          "text": [
            "2x2 matrix:\n",
            " [[1. 0.]\n",
            " [0. 1.]]\n",
            "\n",
            "\n",
            "3x3 matrix:\n",
            " [[1. 0. 0.]\n",
            " [0. 1. 0.]\n",
            " [0. 0. 1.]]\n"
          ]
        }
      ]
    },
    {
      "cell_type": "code",
      "source": [
        "# Creating 2x2 zero matrix\n",
        "zero_arr1 = np.zeros((2,2))\n",
        "print('2x2 zero matrix:\\n', zero_arr1)\n",
        "print('\\n')\n",
        "\n",
        "# 3x3 zero matrix\n",
        "zero_arr2 = np.zeros((3,3))\n",
        "print('3x3 zero matrix:\\n', zero_arr2)\n"
      ],
      "metadata": {
        "colab": {
          "base_uri": "https://localhost:8080/"
        },
        "id": "PyIHwV6nVnDr",
        "outputId": "7d630a25-1ac1-469e-a620-0fa9f72db1ef"
      },
      "execution_count": null,
      "outputs": [
        {
          "output_type": "stream",
          "name": "stdout",
          "text": [
            "2x2 zero matrix:\n",
            " [[0. 0.]\n",
            " [0. 0.]]\n",
            "\n",
            "\n",
            "3x3 zero matrix:\n",
            " [[0. 0. 0.]\n",
            " [0. 0. 0.]\n",
            " [0. 0. 0.]]\n"
          ]
        }
      ]
    },
    {
      "cell_type": "code",
      "source": [
        "# Creating a 2x2 one matrix\n",
        "one_arr1 = np.ones((2,2))\n",
        "print('2x2 one matrix:\\n', one_arr1)\n",
        "print('\\n')\n",
        "\n",
        "# 3x3 one matrix\n",
        "one_arr2 = np.ones((3,3))\n",
        "print('3x3 one matrix:\\n', one_arr2)"
      ],
      "metadata": {
        "colab": {
          "base_uri": "https://localhost:8080/"
        },
        "id": "UYP9ofcwW1ik",
        "outputId": "ac889dfa-2561-4f61-be13-0301ce901aaa"
      },
      "execution_count": null,
      "outputs": [
        {
          "output_type": "stream",
          "name": "stdout",
          "text": [
            "2x2 one matrix:\n",
            " [[1. 1.]\n",
            " [1. 1.]]\n",
            "\n",
            "\n",
            "3x3 one matrix:\n",
            " [[1. 1. 1.]\n",
            " [1. 1. 1.]\n",
            " [1. 1. 1.]]\n"
          ]
        }
      ]
    },
    {
      "cell_type": "code",
      "source": [
        "# Creating a range array that starts from 0, counts by 3 and stops before 10\n",
        "range_arr = np.arange(0,10,3)\n",
        "print(\"Range array\", range_arr)\n"
      ],
      "metadata": {
        "colab": {
          "base_uri": "https://localhost:8080/"
        },
        "id": "rEu-YQ8hWNvs",
        "outputId": "3d0a7da9-8ae8-4d4b-8c18-5a799cc542d4"
      },
      "execution_count": null,
      "outputs": [
        {
          "output_type": "stream",
          "name": "stdout",
          "text": [
            "Range array [0 3 6 9]\n"
          ]
        }
      ]
    },
    {
      "cell_type": "code",
      "source": [
        "# Selecting/slicing specific elements of an array\n",
        "range_arr[2:4]"
      ],
      "metadata": {
        "colab": {
          "base_uri": "https://localhost:8080/"
        },
        "id": "4O6zZdWtXUJc",
        "outputId": "146f22a0-4c39-4d61-f796-7dc00a869992"
      },
      "execution_count": null,
      "outputs": [
        {
          "output_type": "execute_result",
          "data": {
            "text/plain": [
              "array([6, 9])"
            ]
          },
          "metadata": {},
          "execution_count": 11
        }
      ]
    },
    {
      "cell_type": "markdown",
      "source": [
        "## SciPy practice"
      ],
      "metadata": {
        "id": "6w-qEAmwfKgc"
      }
    },
    {
      "cell_type": "markdown",
      "source": [
        "Integrate f(x) = x^2 from 0 to 2"
      ],
      "metadata": {
        "id": "lpzaSD-7fifh"
      }
    },
    {
      "cell_type": "code",
      "source": [
        "# Define function\n",
        "def f(x):\n",
        "  return x**2\n",
        "\n",
        "# Use integrate.quad to compute result and error of integral\n",
        "result, error = integrate.quad(f,0,2)\n",
        "\n",
        "# Print result and error of integral\n",
        "print(f\"Result: {result:4f}\")\n",
        "print(f\"Error: {error:4e}\")\n",
        "\n",
        "print(\"\\n\")\n",
        "\n",
        "# Without the f string\n",
        "print(\"Result:\", result)\n",
        "print(\"Error:\", error)"
      ],
      "metadata": {
        "colab": {
          "base_uri": "https://localhost:8080/"
        },
        "id": "qNu8ybwffNUQ",
        "outputId": "94efcc34-16ab-4265-dcec-095022f0634c"
      },
      "execution_count": null,
      "outputs": [
        {
          "output_type": "stream",
          "name": "stdout",
          "text": [
            "Result: 2.666667\n",
            "Error: 2.960595e-14\n",
            "\n",
            "\n",
            "Result: 2.666666666666667\n",
            "Error: 2.960594732333751e-14\n"
          ]
        }
      ]
    },
    {
      "cell_type": "markdown",
      "source": [
        "Integrate f(x) = sin(x) from 0 to pi"
      ],
      "metadata": {
        "id": "xB_jfl6miRPk"
      }
    },
    {
      "cell_type": "code",
      "source": [
        "# Define function\n",
        "def f(x):\n",
        "  return np.sin(x)\n",
        "\n",
        "# Use integrate.quad to compute result and error of integral\n",
        "result, error = integrate.quad(f, 0, np.pi / 2)\n",
        "\n",
        "# Print result and error of integral\n",
        "print(f\"Result: {result:4f}\")\n",
        "print(f\"Error: {error:4e}\")\n",
        "\n"
      ],
      "metadata": {
        "colab": {
          "base_uri": "https://localhost:8080/"
        },
        "id": "dqlbcEpAflSd",
        "outputId": "1ba9ec26-f22d-48d0-8251-8ce983e44409"
      },
      "execution_count": null,
      "outputs": [
        {
          "output_type": "stream",
          "name": "stdout",
          "text": [
            "Result: 1.000000\n",
            "Error: 1.110223e-14\n"
          ]
        }
      ]
    },
    {
      "cell_type": "markdown",
      "source": [
        "Integrate f(x) = 3x^2-5x+2 from 1 to 2"
      ],
      "metadata": {
        "id": "lVHeP7tEkUXM"
      }
    },
    {
      "cell_type": "code",
      "source": [
        "# Define function\n",
        "def f(x):\n",
        "  return 3*x**2 - 5*x + 2\n",
        "\n",
        "# Use integrate.quad to find out result and error of integral\n",
        "result, error = integrate.quad(f,1,2)\n",
        "\n",
        "# Print result and error of integral\n",
        "print(f\"Result: {result:4f}\")\n",
        "print(f\"Error: {error:4e}\")"
      ],
      "metadata": {
        "colab": {
          "base_uri": "https://localhost:8080/"
        },
        "id": "JzXFe_vSkZzd",
        "outputId": "510e20fd-681d-4db3-89a2-288dca192e08"
      },
      "execution_count": null,
      "outputs": [
        {
          "output_type": "stream",
          "name": "stdout",
          "text": [
            "Result: 1.500000\n",
            "Error: 1.665335e-14\n"
          ]
        }
      ]
    },
    {
      "cell_type": "markdown",
      "source": [
        "Inegrate f(x) = sqrt(x)"
      ],
      "metadata": {
        "id": "3scUOOQ7lw9_"
      }
    },
    {
      "cell_type": "code",
      "source": [
        "# Define function\n",
        "def f(x):\n",
        "  return x**0.5\n",
        "\n",
        "# Integrate quad to compute result and error of integral\n",
        "result, error = integrate.quad(f, 4, 9)\n",
        "\n",
        "# Print result and error of integral\n",
        "print(f\"Result: {result:4f}\")\n",
        "print(f\"Error: {error:4e}\")"
      ],
      "metadata": {
        "colab": {
          "base_uri": "https://localhost:8080/"
        },
        "id": "BxBPinJ8l0xz",
        "outputId": "69414b8d-ab87-40bd-ef3d-c8d261dfa6d8"
      },
      "execution_count": null,
      "outputs": [
        {
          "output_type": "stream",
          "name": "stdout",
          "text": [
            "Result: 12.666667\n",
            "Error: 1.406282e-13\n"
          ]
        }
      ]
    },
    {
      "cell_type": "markdown",
      "source": [
        "Integrate f(x) = x^3 - 5x^2 / x"
      ],
      "metadata": {
        "id": "OWTq1OmmnDqc"
      }
    },
    {
      "cell_type": "code",
      "source": [
        "# Define function\n",
        "def f(x):\n",
        "  return (x**3 - 5*x**2) / x\n",
        "\n",
        "# Integrate quad\n",
        "result, error = integrate.quad(f, 2, 3)\n",
        "\n",
        "# Print result and error\n",
        "print(f\"Result: {result:4f}\")\n",
        "print(f\"Error: {error:4e}\")"
      ],
      "metadata": {
        "colab": {
          "base_uri": "https://localhost:8080/"
        },
        "id": "EqtAe4K9nJxe",
        "outputId": "24165c45-b316-4f8d-93df-950218c5e46c"
      },
      "execution_count": null,
      "outputs": [
        {
          "output_type": "stream",
          "name": "stdout",
          "text": [
            "Result: -6.166667\n",
            "Error: 6.846375e-14\n"
          ]
        }
      ]
    },
    {
      "cell_type": "markdown",
      "source": [],
      "metadata": {
        "id": "WXAD9lGDokst"
      }
    },
    {
      "cell_type": "code",
      "source": [
        "# Define function\n",
        "def f(x):\n",
        "  return np.exp(3*x)\n",
        "\n",
        "# Integrate quad\n",
        "result, error = integrate.quad(f, 0, 1/3)\n",
        "\n",
        "# Print result and error of integral\n",
        "print(f\"Result: {result:4f}\")\n",
        "print(f\"Error: {error:4e}\")\n",
        "\n"
      ],
      "metadata": {
        "colab": {
          "base_uri": "https://localhost:8080/"
        },
        "id": "YpzxyQmvpYIV",
        "outputId": "7d44ed2d-d9ae-4a63-84f6-fbf14dd88f94"
      },
      "execution_count": null,
      "outputs": [
        {
          "output_type": "stream",
          "name": "stdout",
          "text": [
            "Result: 0.572761\n",
            "Error: 6.358920e-15\n"
          ]
        }
      ]
    },
    {
      "cell_type": "markdown",
      "source": [
        "## Matplotlib"
      ],
      "metadata": {
        "id": "Xxku9SKQq63w"
      }
    },
    {
      "cell_type": "markdown",
      "source": [
        "Plotting sine and cosine waves\n"
      ],
      "metadata": {
        "id": "2Jy4gEiVsyia"
      }
    },
    {
      "cell_type": "code",
      "source": [
        "# Generate 100 x values from 0 to 2pi\n",
        "\n",
        "x = np.linspace(0, 2 * np.pi, 100)\n",
        "\n",
        "# Defining sine and cosine for y\n",
        "\n",
        "y_sin = np.sin(x)\n",
        "y_cos = np.cos(x)\n",
        "\n",
        "# Plotting sine and cosine waves\n",
        "plt.plot(x, y_sin, label = 'sin(x)', color = 'r')\n",
        "plt.plot(x, y_cos, label = 'cos(x)', color = 'b')\n",
        "plt.xlabel('x')\n",
        "plt.ylabel('y')\n",
        "plt.legend()\n",
        "plt.title(\"Sine and Cosine waves\")\n",
        "plt.show()\n"
      ],
      "metadata": {
        "colab": {
          "base_uri": "https://localhost:8080/",
          "height": 472
        },
        "id": "d1wkjaUWq9C3",
        "outputId": "968c6915-bad1-4537-8f98-6d1c8b99694f"
      },
      "execution_count": null,
      "outputs": [
        {
          "output_type": "display_data",
          "data": {
            "text/plain": [
              "<Figure size 640x480 with 1 Axes>"
            ],
            "image/png": "[encoded data removed]"
          },
          "metadata": {}
        }
      ]
    },
    {
      "cell_type": "markdown",
      "source": [
        "## IF, ELIF, and ELSE statements"
      ],
      "metadata": {
        "id": "misxYp60Vrzo"
      }
    },
    {
      "cell_type": "markdown",
      "source": [
        "Check whether the numbers are positive/negative/zero"
      ],
      "metadata": {
        "id": "gnoSZhSRWOc_"
      }
    },
    {
      "cell_type": "code",
      "source": [
        "# Define function\n",
        "def f(x):\n",
        "  if x > 0:\n",
        "    return \"positive\"\n",
        "  elif x == 0:\n",
        "    return \"zero\"\n",
        "  else:\n",
        "    return \"negative\"\n",
        "\n",
        "print(f(1), f(0), f(-1))"
      ],
      "metadata": {
        "colab": {
          "base_uri": "https://localhost:8080/"
        },
        "id": "U6f8fo_cVzVB",
        "outputId": "cb24dcdd-9bdb-4dcb-859a-2c26f4da8945"
      },
      "execution_count": null,
      "outputs": [
        {
          "output_type": "stream",
          "name": "stdout",
          "text": [
            "positive zero negative\n"
          ]
        }
      ]
    },
    {
      "cell_type": "markdown",
      "source": [
        "Check if numbers are even"
      ],
      "metadata": {
        "id": "g2VjGhULW900"
      }
    },
    {
      "cell_type": "code",
      "source": [
        "#Define function\n",
        "def f(x):\n",
        "  if x % 2 == 0: # if a number divided by 2 has a remainder of 0, then it's even\n",
        "    return \"even\"\n",
        "  else:\n",
        "    return \"odd\"\n",
        "\n",
        "print(f(4), f(5), f(-2))\n",
        "\n",
        "\n"
      ],
      "metadata": {
        "colab": {
          "base_uri": "https://localhost:8080/"
        },
        "id": "0KtBYxI0Wzhf",
        "outputId": "05f99a3e-9eb7-4f43-f104-3600384610ea"
      },
      "execution_count": null,
      "outputs": [
        {
          "output_type": "stream",
          "name": "stdout",
          "text": [
            "even odd even\n"
          ]
        }
      ]
    },
    {
      "cell_type": "markdown",
      "source": [
        "Check if a number is positive or negative"
      ],
      "metadata": {
        "id": "97WykLIlYPLt"
      }
    },
    {
      "cell_type": "code",
      "source": [
        "# Define function\n",
        "def f(x):\n",
        "  if x > 0:\n",
        "    return \"positive\"\n",
        "  elif x < 0:\n",
        "    return \"negative\"\n",
        "  else:\n",
        "    return \"zero\"\n",
        "print(f(0), f(-1), f(1))"
      ],
      "metadata": {
        "colab": {
          "base_uri": "https://localhost:8080/"
        },
        "id": "b_aYJkmIXXp_",
        "outputId": "9e0dd145-4bb2-4505-8898-eff3033e3137"
      },
      "execution_count": null,
      "outputs": [
        {
          "output_type": "stream",
          "name": "stdout",
          "text": [
            "zero negative positive\n"
          ]
        }
      ]
    },
    {
      "cell_type": "markdown",
      "source": [
        "Check if someone is eligable to enter a bar"
      ],
      "metadata": {
        "id": "4OaFI7gCbsv3"
      }
    },
    {
      "cell_type": "code",
      "source": [
        "def f(x):\n",
        "  if x >= 18:\n",
        "    return \"Eligable\"\n",
        "  else:\n",
        "    return \"Not eligable\"\n",
        "print(f(18), f(17))"
      ],
      "metadata": {
        "colab": {
          "base_uri": "https://localhost:8080/"
        },
        "id": "6HY80wfjbsfo",
        "outputId": "472af952-dfe7-452f-b3a2-2d751ab4c684"
      },
      "execution_count": null,
      "outputs": [
        {
          "output_type": "stream",
          "name": "stdout",
          "text": [
            "Eligable Not eligable\n"
          ]
        }
      ]
    },
    {
      "cell_type": "markdown",
      "source": [
        "Check if someone passed the class"
      ],
      "metadata": {
        "id": "gAto8ozcZgLn"
      }
    },
    {
      "cell_type": "code",
      "source": [
        "#Define function\n",
        "def f(x):\n",
        "  if x < 60:\n",
        "    return \"F\"\n",
        "  elif 60 <= x < 70:\n",
        "    return \"D\"\n",
        "  elif 70 <= x < 80:\n",
        "    return \"C\"\n",
        "  elif 80 <= x < 90:\n",
        "    return \"B\"\n",
        "  elif 90 <= x <= 100:\n",
        "    return \"A\"\n",
        "  else:\n",
        "    return \"A+\"\n",
        "\n",
        "print(f(50), f(60), f(70), f(80), f(101))\n",
        "\n",
        "\n"
      ],
      "metadata": {
        "colab": {
          "base_uri": "https://localhost:8080/"
        },
        "id": "lp4maoOkYnm3",
        "outputId": "efff2e26-2115-40f0-f7ae-5bfcaf574b23"
      },
      "execution_count": null,
      "outputs": [
        {
          "output_type": "stream",
          "name": "stdout",
          "text": [
            "F D C B A+\n"
          ]
        }
      ]
    },
    {
      "cell_type": "markdown",
      "source": [
        "## For looping"
      ],
      "metadata": {
        "id": "OsrOQOyadq_F"
      }
    },
    {
      "cell_type": "code",
      "source": [
        "# Item/list for a loop\n",
        "integers = [1,2,3,4,5]\n",
        "\n",
        "# Creating for loop with temporary variable \"i\"\n",
        "for i in integers:\n",
        "  print(i)"
      ],
      "metadata": {
        "colab": {
          "base_uri": "https://localhost:8080/"
        },
        "id": "g8N9nSaPpPJv",
        "outputId": "f2769c4c-2fb3-4784-d2ef-452cf7545b06"
      },
      "execution_count": null,
      "outputs": [
        {
          "output_type": "stream",
          "name": "stdout",
          "text": [
            "1\n",
            "2\n",
            "3\n",
            "4\n",
            "5\n"
          ]
        }
      ]
    },
    {
      "cell_type": "markdown",
      "source": [
        "Using for loops to print even numbers"
      ],
      "metadata": {
        "id": "m8UyZsa2rgq9"
      }
    },
    {
      "cell_type": "code",
      "source": [
        "# List of even numbers\n",
        "even_numbers = [2,4,6,8,10]\n",
        "\n",
        "# For loop\n",
        "for i in even_numbers:\n",
        "  print('Even numbers are:', i)"
      ],
      "metadata": {
        "colab": {
          "base_uri": "https://localhost:8080/"
        },
        "id": "ry0UHdIjrkIs",
        "outputId": "b4b7ab7e-9fad-41c0-bd1f-9511f2a06c8c"
      },
      "execution_count": null,
      "outputs": [
        {
          "output_type": "stream",
          "name": "stdout",
          "text": [
            "Even numbers are: 2\n",
            "Even numbers are: 4\n",
            "Even numbers are: 6\n",
            "Even numbers are: 8\n",
            "Even numbers are: 10\n"
          ]
        }
      ]
    },
    {
      "cell_type": "markdown",
      "source": [
        "Creating a list of integers"
      ],
      "metadata": {
        "id": "cBmRxpjysG8I"
      }
    },
    {
      "cell_type": "code",
      "source": [
        "# A blank list of integers\n",
        "integer_list = []\n",
        "\n",
        "# Creating for loop\n",
        "for i in range(0,10):\n",
        "  integer_list.append(i)\n",
        "\n",
        "print('List of integers:', integer_list)"
      ],
      "metadata": {
        "colab": {
          "base_uri": "https://localhost:8080/"
        },
        "id": "YyMR7_TFsNnq",
        "outputId": "f8314bbf-cd9b-4b46-8adf-e274759f68e1"
      },
      "execution_count": null,
      "outputs": [
        {
          "output_type": "stream",
          "name": "stdout",
          "text": [
            "List of integers: [0, 1, 2, 3, 4, 5, 6, 7, 8, 9]\n"
          ]
        }
      ]
    },
    {
      "cell_type": "markdown",
      "source": [
        "Summing elements 0,..,4"
      ],
      "metadata": {
        "id": "nE8KM9m81VW4"
      }
    },
    {
      "cell_type": "code",
      "source": [
        "# for\n",
        "s = 0\n",
        "for k in range(0,5):\n",
        "  s += k\n",
        "print(\"Sum 0,...,4:\", s)\n",
        "\n",
        "\n"
      ],
      "metadata": {
        "colab": {
          "base_uri": "https://localhost:8080/"
        },
        "id": "W1LXT02BtWD7",
        "outputId": "273a7c4f-6448-4233-879e-3f1505964b7d"
      },
      "execution_count": null,
      "outputs": [
        {
          "output_type": "stream",
          "name": "stdout",
          "text": [
            "Sum 0,...,4: 10\n"
          ]
        }
      ]
    },
    {
      "cell_type": "markdown",
      "source": [
        "Using for loops to get 1,..,4 = 48"
      ],
      "metadata": {
        "id": "F6A-XIi81a8p"
      }
    },
    {
      "cell_type": "code",
      "source": [
        "# Item\n",
        "s = 2\n",
        "\n",
        "# For loop\n",
        "\n",
        "for k in range(1,5):\n",
        "  s*=k\n",
        "print(s)"
      ],
      "metadata": {
        "colab": {
          "base_uri": "https://localhost:8080/"
        },
        "id": "eCn-PLSg1xNT",
        "outputId": "352a2fa2-7046-440e-cb6f-d156a1663388"
      },
      "execution_count": null,
      "outputs": [
        {
          "output_type": "stream",
          "name": "stdout",
          "text": [
            "48\n"
          ]
        }
      ]
    },
    {
      "cell_type": "markdown",
      "source": [
        "Nested For Loops"
      ],
      "metadata": {
        "id": "mDq6U527qz0F"
      }
    },
    {
      "cell_type": "code",
      "source": [
        "flavors = ['Vanilla', 'Chocalate', 'Cookie Dough']\n",
        "toppings = ['Hot Fudge', 'Oreos', 'Marshmallows']\n",
        "\n",
        "\n",
        "# Creating nested for loop\n",
        "for one in flavors:\n",
        "  for two in toppings:\n",
        "    print(one, 'toppied with', two)"
      ],
      "metadata": {
        "colab": {
          "base_uri": "https://localhost:8080/"
        },
        "id": "6ji0ejS5pwZo",
        "outputId": "d4e5f69b-269e-4dde-edb8-01708656ee16"
      },
      "execution_count": null,
      "outputs": [
        {
          "output_type": "stream",
          "name": "stdout",
          "text": [
            "Vanilla toppied with Hot Fudge\n",
            "Vanilla toppied with Oreos\n",
            "Vanilla toppied with Marshmallows\n",
            "Chocalate toppied with Hot Fudge\n",
            "Chocalate toppied with Oreos\n",
            "Chocalate toppied with Marshmallows\n",
            "Cookie Dough toppied with Hot Fudge\n",
            "Cookie Dough toppied with Oreos\n",
            "Cookie Dough toppied with Marshmallows\n"
          ]
        }
      ]
    },
    {
      "cell_type": "markdown",
      "source": [
        "Add two lists using nested loops"
      ],
      "metadata": {
        "id": "Crb58Bep2epn"
      }
    },
    {
      "cell_type": "code",
      "source": [
        "# Creating nesting for loop\n",
        "for i in integers:\n",
        "  for k in even_numbers:\n",
        "    print(i+k)"
      ],
      "metadata": {
        "colab": {
          "base_uri": "https://localhost:8080/"
        },
        "id": "JyfhR-YurWUX",
        "outputId": "3aaee698-f316-45b6-81a1-c7937084d77e"
      },
      "execution_count": null,
      "outputs": [
        {
          "output_type": "stream",
          "name": "stdout",
          "text": [
            "3\n",
            "5\n",
            "7\n",
            "9\n",
            "11\n",
            "4\n",
            "6\n",
            "8\n",
            "10\n",
            "12\n",
            "5\n",
            "7\n",
            "9\n",
            "11\n",
            "13\n",
            "6\n",
            "8\n",
            "10\n",
            "12\n",
            "14\n",
            "7\n",
            "9\n",
            "11\n",
            "13\n",
            "15\n"
          ]
        }
      ]
    },
    {
      "cell_type": "code",
      "source": [],
      "metadata": {
        "id": "V4JShBL923AA"
      },
      "execution_count": null,
      "outputs": []
    }
  ]
}